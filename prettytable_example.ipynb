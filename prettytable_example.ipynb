{
 "cells": [
  {
   "cell_type": "markdown",
   "id": "957fe339",
   "metadata": {},
   "source": [
    "# 使用PrettyTable 创建表格：入门"
   ]
  },
  {
   "cell_type": "markdown",
   "id": "744df7ef",
   "metadata": {},
   "source": [
    "如果没有prettytable,可以使用pip inatall PrettyTable语句进行下载。如果是使用的anaconda, 可以打开anaconda prompt并运行这个语句。"
   ]
  },
  {
   "cell_type": "code",
   "execution_count": 1,
   "id": "2dd4c94b",
   "metadata": {},
   "outputs": [],
   "source": [
    "from prettytable import PrettyTable as PT"
   ]
  },
  {
   "cell_type": "code",
   "execution_count": 2,
   "id": "6afb1af3",
   "metadata": {},
   "outputs": [
    {
     "name": "stdout",
     "output_type": "stream",
     "text": [
      "+---------------------------------------------+----------+-------+\n",
      "|                                     Problem | Computer | Human |\n",
      "+---------------------------------------------+----------+-------+\n",
      "| Multiply thousands of large numbers quickly |   Easy   |  Hard |\n",
      "|  Find faces in a photo of a crowd of people |   Hard   |  Easy |\n",
      "+---------------------------------------------+----------+-------+\n"
     ]
    }
   ],
   "source": [
    "#利用PrettyTable，定义表格的表头\n",
    "u = PT([\"Problem\",\"Computer\",\"Human\"])\n",
    "\n",
    "# 调用add_row()方法，向表格中添加两条数据\n",
    "u.add_row([\"Multiply thousands of large numbers quickly\",\"Easy\",\"Hard\"])\n",
    "u.add_row([\"Find faces in a photo of a crowd of people\",\"Hard\",\"Easy\"])\n",
    "\n",
    "# 使用aligh属性，设置Problem靠右\n",
    "u.align[\"Problem\"] = \"r\"\n",
    "\n",
    "print(u)"
   ]
  },
  {
   "cell_type": "code",
   "execution_count": 3,
   "id": "da855877",
   "metadata": {},
   "outputs": [
    {
     "data": {
      "text/html": [
       "<table>\n",
       "    <thead>\n",
       "        <tr>\n",
       "            <th>Problem</th>\n",
       "            <th>Computer</th>\n",
       "            <th>Human</th>\n",
       "        </tr>\n",
       "    </thead>\n",
       "    <tbody>\n",
       "        <tr>\n",
       "            <td>Multiply thousands of large numbers quickly</td>\n",
       "            <td>Easy</td>\n",
       "            <td>Hard</td>\n",
       "        </tr>\n",
       "        <tr>\n",
       "            <td>Find faces in a photo of a crowd of people</td>\n",
       "            <td>Hard</td>\n",
       "            <td>Easy</td>\n",
       "        </tr>\n",
       "    </tbody>\n",
       "</table>"
      ],
      "text/plain": [
       "+---------------------------------------------+----------+-------+\n",
       "|                                     Problem | Computer | Human |\n",
       "+---------------------------------------------+----------+-------+\n",
       "| Multiply thousands of large numbers quickly |   Easy   |  Hard |\n",
       "|  Find faces in a photo of a crowd of people |   Hard   |  Easy |\n",
       "+---------------------------------------------+----------+-------+"
      ]
     },
     "execution_count": 3,
     "metadata": {},
     "output_type": "execute_result"
    }
   ],
   "source": [
    "u"
   ]
  },
  {
   "cell_type": "code",
   "execution_count": null,
   "id": "b5e7908a",
   "metadata": {},
   "outputs": [],
   "source": []
  }
 ],
 "metadata": {
  "kernelspec": {
   "display_name": "Python 3 (ipykernel)",
   "language": "python",
   "name": "python3"
  },
  "language_info": {
   "codemirror_mode": {
    "name": "ipython",
    "version": 3
   },
   "file_extension": ".py",
   "mimetype": "text/x-python",
   "name": "python",
   "nbconvert_exporter": "python",
   "pygments_lexer": "ipython3",
   "version": "3.9.7"
  }
 },
 "nbformat": 4,
 "nbformat_minor": 5
}
