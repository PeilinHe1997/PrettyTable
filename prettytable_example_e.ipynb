{
 "cells": [
  {
   "cell_type": "markdown",
   "id": "b0d5a28b",
   "metadata": {},
   "source": [
    "# Creating Tables with PrettyTable: Getting Started"
   ]
  },
  {
   "cell_type": "markdown",
   "id": "a31296a9",
   "metadata": {},
   "source": [
    "If there is no \"PrettyTbale\" package, you can use \"pip inatall PrettyTable\" to download it. If you are using anaconda, you can open the anaconda prompt and run this code."
   ]
  },
  {
   "cell_type": "code",
   "execution_count": 2,
   "id": "d6a82c31",
   "metadata": {},
   "outputs": [],
   "source": [
    "from prettytable import PrettyTable as PT"
   ]
  },
  {
   "cell_type": "code",
   "execution_count": 3,
   "id": "87274ec4",
   "metadata": {},
   "outputs": [
    {
     "name": "stdout",
     "output_type": "stream",
     "text": [
      "+---------------------------------------------+----------+-------+\n",
      "|                                     Problem | Computer | Human |\n",
      "+---------------------------------------------+----------+-------+\n",
      "| Multiply thousands of large numbers quickly |   Easy   |  Hard |\n",
      "|  Find faces in a photo of a crowd of people |   Hard   |  Easy |\n",
      "+---------------------------------------------+----------+-------+\n"
     ]
    }
   ],
   "source": [
    "#Using PrettyTable to define the header of the table\n",
    "u = PT([\"Problem\",\"Computer\",\"Human\"])\n",
    "\n",
    "# add_row(): add two pieces of data to the table\n",
    "u.add_row([\"Multiply thousands of large numbers quickly\",\"Easy\",\"Hard\"])\n",
    "u.add_row([\"Find faces in a photo of a crowd of people\",\"Hard\",\"Easy\"])\n",
    "\n",
    "# Use the aligh property to set the \"Problem\" to the right\n",
    "u.align[\"Problem\"] = \"r\"\n",
    "\n",
    "print(u)"
   ]
  },
  {
   "cell_type": "code",
   "execution_count": 4,
   "id": "aa297a59",
   "metadata": {},
   "outputs": [
    {
     "data": {
      "text/html": [
       "<table>\n",
       "    <thead>\n",
       "        <tr>\n",
       "            <th>Problem</th>\n",
       "            <th>Computer</th>\n",
       "            <th>Human</th>\n",
       "        </tr>\n",
       "    </thead>\n",
       "    <tbody>\n",
       "        <tr>\n",
       "            <td>Multiply thousands of large numbers quickly</td>\n",
       "            <td>Easy</td>\n",
       "            <td>Hard</td>\n",
       "        </tr>\n",
       "        <tr>\n",
       "            <td>Find faces in a photo of a crowd of people</td>\n",
       "            <td>Hard</td>\n",
       "            <td>Easy</td>\n",
       "        </tr>\n",
       "    </tbody>\n",
       "</table>"
      ],
      "text/plain": [
       "+---------------------------------------------+----------+-------+\n",
       "|                                     Problem | Computer | Human |\n",
       "+---------------------------------------------+----------+-------+\n",
       "| Multiply thousands of large numbers quickly |   Easy   |  Hard |\n",
       "|  Find faces in a photo of a crowd of people |   Hard   |  Easy |\n",
       "+---------------------------------------------+----------+-------+"
      ]
     },
     "execution_count": 4,
     "metadata": {},
     "output_type": "execute_result"
    }
   ],
   "source": [
    "u"
   ]
  }
 ],
 "metadata": {
  "kernelspec": {
   "display_name": "Python 3 (ipykernel)",
   "language": "python",
   "name": "python3"
  },
  "language_info": {
   "codemirror_mode": {
    "name": "ipython",
    "version": 3
   },
   "file_extension": ".py",
   "mimetype": "text/x-python",
   "name": "python",
   "nbconvert_exporter": "python",
   "pygments_lexer": "ipython3",
   "version": "3.9.7"
  }
 },
 "nbformat": 4,
 "nbformat_minor": 5
}
